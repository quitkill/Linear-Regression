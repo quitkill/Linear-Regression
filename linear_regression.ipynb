{
 "cells": [
  {
   "cell_type": "code",
   "execution_count": 1,
   "metadata": {},
   "outputs": [],
   "source": [
    "import pandas as pd\n",
    "import numpy as np\n",
    "import matplotlib.pyplot as plt"
   ]
  },
  {
   "cell_type": "code",
   "execution_count": 2,
   "metadata": {},
   "outputs": [],
   "source": [
    "def estimate_coef(x,y):\n",
    "    n= np.size(x)\n",
    "    \n",
    "    m_x = np.mean(x)\n",
    "    m_y = np.mean(y)\n",
    "    \n",
    "    ss_xy = np.sum(y*x) - n*m_y*m_x\n",
    "    ss_xx = np.sum(x*x) - n*m_x*m_x\n",
    "    \n",
    "    b_1 = ss_xy/ss_xx\n",
    "    b_0 = m_y - b_1*m_x\n",
    "    \n",
    "    return(b_0,b_1)"
   ]
  },
  {
   "cell_type": "code",
   "execution_count": 3,
   "metadata": {},
   "outputs": [],
   "source": [
    "def plot_regression(x,y,b):\n",
    "    \n",
    "    plt.scatter(x,y,color='m',marker = 'o',s = 30)\n",
    "    \n",
    "    y_pred = b[0] + b[1]*x\n",
    "    \n",
    "    plt.plot(x,y_pred,color='g')\n",
    "    \n",
    "    plt.xlabel('x')\n",
    "    plt.ylabel('y')\n",
    "    \n",
    "    plt.show()"
   ]
  },
  {
   "cell_type": "code",
   "execution_count": 6,
   "metadata": {},
   "outputs": [
    {
     "name": "stdout",
     "output_type": "stream",
     "text": [
      "Estimate coefficient:\n",
      " b_0 = 47.68781662652606 \n",
      "b_1 = -0.9624615895689735\n"
     ]
    },
    {
     "data": {
      "image/png": "[encoded data removed]",
      "text/plain": [
       "<Figure size 432x288 with 1 Axes>"
      ]
     },
     "metadata": {
      "needs_background": "light"
     },
     "output_type": "display_data"
    }
   ],
   "source": [
    "def main():\n",
    "    \n",
    "    x = np.array([9,12,15,18,21,24,27,35,40,42])\n",
    "    y = np.array([42,40,35,27,24,21,18,15,12,9])\n",
    "    \n",
    "    b = estimate_coef(x,y)\n",
    "    print(\"Estimate coefficient:\\n b_0 = {} \\nb_1 = {}\".format(b[0],b[1]))\n",
    "    \n",
    "    plot_regression(x,y,b)\n",
    "    \n",
    "    \n",
    "if __name__ == \"__main__\":\n",
    "    main()"
   ]
  },
  {
   "cell_type": "code",
   "execution_count": null,
   "metadata": {},
   "outputs": [],
   "source": []
  }
 ],
 "metadata": {
  "kernelspec": {
   "display_name": "Python 3",
   "language": "python",
   "name": "python3"
  },
  "language_info": {
   "codemirror_mode": {
    "name": "ipython",
    "version": 3
   },
   "file_extension": ".py",
   "mimetype": "text/x-python",
   "name": "python",
   "nbconvert_exporter": "python",
   "pygments_lexer": "ipython3",
   "version": "3.8.5"
  }
 },
 "nbformat": 4,
 "nbformat_minor": 4
}
